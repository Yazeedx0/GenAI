{
  "nbformat": 4,
  "nbformat_minor": 0,
  "metadata": {
    "colab": {
      "provenance": [],
      "gpuType": "T4",
      "authorship_tag": "ABX9TyMz/Qy75CikNvsfPZrtjBbp",
      "include_colab_link": true
    },
    "kernelspec": {
      "name": "python3",
      "display_name": "Python 3"
    },
    "language_info": {
      "name": "python"
    },
    "accelerator": "GPU"
  },
  "cells": [
    {
      "cell_type": "markdown",
      "metadata": {
        "id": "view-in-github",
        "colab_type": "text"
      },
      "source": [
        "<a href=\"https://colab.research.google.com/github/Yazeedx0/Test-AI-Code/blob/main/Testing.ipynb\" target=\"_parent\"><img src=\"https://colab.research.google.com/assets/colab-badge.svg\" alt=\"Open In Colab\"/></a>"
      ]
    },
    {
      "cell_type": "code",
      "execution_count": null,
      "metadata": {
        "id": "f5r_GZEUW9o9"
      },
      "outputs": [],
      "source": [
        "!pip install transformers\n",
        "!pip install datasets\n",
        "!pip install torch"
      ]
    },
    {
      "cell_type": "code",
      "source": [
        "from datasets import load_dataset\n",
        "import pandas as pd\n",
        "df = pd.read_csv('/content/Test.csv')\n",
        "\n",
        "\n",
        "dataset = load_dataset('csv', data_files={'train': '/content/Test.csv'})\n",
        "\n",
        "print(dataset['train'][0])\n",
        "df['text'] = df['Question'] + \" \" + df['Answer']\n",
        "\n",
        "df.head()\n",
        "\n"
      ],
      "metadata": {
        "id": "ZLcjbn9F09t3"
      },
      "execution_count": null,
      "outputs": []
    },
    {
      "cell_type": "code",
      "source": [
        "import pandas as pd\n",
        "import torch\n",
        "from torch.utils.data import Dataset\n",
        "from transformers import AutoTokenizer, AutoModelForCausalLM, Trainer, TrainingArguments\n",
        "\n",
        "tokenizer = AutoTokenizer.from_pretrained(\"riotu-lab/ArabianGPT-01B\", use_fast=True)\n",
        "model = AutoModelForCausalLM.from_pretrained(\"riotu-lab/ArabianGPT-01B\")\n",
        "\n",
        "encodings = tokenizer(list(df['text']), truncation=True, padding=True, max_length=512, return_tensors='pt')\n",
        "\n",
        "if 'token_type_ids' in encodings:\n",
        "    encodings.pop('token_type_ids')\n",
        "\n",
        "class CustomDataset(Dataset):\n",
        "    def __init__(self, encodings):\n",
        "        self.input_ids = encodings['input_ids']\n",
        "        self.attention_mask = encodings['attention_mask']\n",
        "\n",
        "    def __len__(self):\n",
        "        return self.input_ids.size(0)\n",
        "\n",
        "    def __getitem__(self, idx):\n",
        "        item = {\n",
        "            'input_ids': self.input_ids[idx],\n",
        "            'attention_mask': self.attention_mask[idx],\n",
        "            'labels': self.input_ids[idx].clone()\n",
        "        }\n",
        "        return item\n",
        "\n",
        "dataset = CustomDataset(encodings)\n",
        "\n",
        "training_args = TrainingArguments(\n",
        "    output_dir='./results',\n",
        "    eval_strategy=\"no\",\n",
        "    learning_rate=5e-5,\n",
        "    per_device_train_batch_size=4,\n",
        "    num_train_epochs=3,\n",
        "    weight_decay=0.01,\n",
        "    logging_dir='./logs',\n",
        ")\n",
        "\n",
        "trainer = Trainer(\n",
        "    model=model,\n",
        "    args=training_args,\n",
        "    train_dataset=dataset,\n",
        ")\n",
        "\n",
        "trainer.train()\n"
      ],
      "metadata": {
        "colab": {
          "base_uri": "https://localhost:8080/",
          "height": 298
        },
        "id": "oq9jOiPV5UvS",
        "outputId": "7c975b24-2155-4b61-89f5-f9ad5a9194c9"
      },
      "execution_count": 30,
      "outputs": [
        {
          "output_type": "display_data",
          "data": {
            "text/plain": [
              "<IPython.core.display.HTML object>"
            ],
            "text/html": [
              "\n",
              "    <div>\n",
              "      \n",
              "      <progress value='3054' max='3054' style='width:300px; height:20px; vertical-align: middle;'></progress>\n",
              "      [3054/3054 35:25, Epoch 3/3]\n",
              "    </div>\n",
              "    <table border=\"1\" class=\"dataframe\">\n",
              "  <thead>\n",
              " <tr style=\"text-align: left;\">\n",
              "      <th>Step</th>\n",
              "      <th>Training Loss</th>\n",
              "    </tr>\n",
              "  </thead>\n",
              "  <tbody>\n",
              "    <tr>\n",
              "      <td>500</td>\n",
              "      <td>0.672900</td>\n",
              "    </tr>\n",
              "    <tr>\n",
              "      <td>1000</td>\n",
              "      <td>0.098800</td>\n",
              "    </tr>\n",
              "    <tr>\n",
              "      <td>1500</td>\n",
              "      <td>0.069700</td>\n",
              "    </tr>\n",
              "    <tr>\n",
              "      <td>2000</td>\n",
              "      <td>0.065400</td>\n",
              "    </tr>\n",
              "    <tr>\n",
              "      <td>2500</td>\n",
              "      <td>0.051700</td>\n",
              "    </tr>\n",
              "    <tr>\n",
              "      <td>3000</td>\n",
              "      <td>0.048400</td>\n",
              "    </tr>\n",
              "  </tbody>\n",
              "</table><p>"
            ]
          },
          "metadata": {}
        },
        {
          "output_type": "execute_result",
          "data": {
            "text/plain": [
              "TrainOutput(global_step=3054, training_loss=0.1657236754386817, metrics={'train_runtime': 2126.6261, 'train_samples_per_second': 5.743, 'train_steps_per_second': 1.436, 'total_flos': 3191159586816000.0, 'train_loss': 0.1657236754386817, 'epoch': 3.0})"
            ]
          },
          "metadata": {},
          "execution_count": 30
        }
      ]
    },
    {
      "cell_type": "code",
      "source": [
        "model.save_pretrained(\"./arabian_gpt_trained\")\n",
        "tokenizer.save_pretrained(\"./arabian_gpt_trained\")\n"
      ],
      "metadata": {
        "colab": {
          "base_uri": "https://localhost:8080/"
        },
        "id": "UCB_wq09BQu6",
        "outputId": "368848cd-87f6-4029-efce-3605ae1e1f6d"
      },
      "execution_count": 31,
      "outputs": [
        {
          "output_type": "execute_result",
          "data": {
            "text/plain": [
              "('./arabian_gpt_trained/tokenizer_config.json',\n",
              " './arabian_gpt_trained/special_tokens_map.json',\n",
              " './arabian_gpt_trained/tokenizer.json')"
            ]
          },
          "metadata": {},
          "execution_count": 31
        }
      ]
    },
    {
      "cell_type": "code",
      "source": [
        "from transformers import GPT2LMHeadModel, PreTrainedTokenizerFast, pipeline\n",
        "\n",
        "model = GPT2LMHeadModel.from_pretrained(\"/content/drive/MyDrive/arabian_gpt_trained\")\n",
        "tokenizer = PreTrainedTokenizerFast.from_pretrained(\"/content/drive/MyDrive/arabian_gpt_trained\")\n",
        "\n",
        "pipe = pipeline(\"text-generation\", model=model, tokenizer=tokenizer, device=0)\n",
        "\n",
        "text = 'كم عدد الساعات المعتمدة التي يجب أن يدرسها الطالب لتصنيفه في مستوى السنة الثانية؟\t'\n",
        "\n",
        "generated_text = pipe(\n",
        "    text,\n",
        "    max_new_tokens=50,\n",
        "    temperature=0.7,\n",
        "    top_k=50,\n",
        "    top_p=0.95,\n",
        "    repetition_penalty=1.2,\n",
        "    num_return_sequences=1,\n",
        "    do_sample=True\n",
        ")\n",
        "\n",
        "print(generated_text)\n"
      ],
      "metadata": {
        "colab": {
          "base_uri": "https://localhost:8080/"
        },
        "id": "i9ZNlIgQBjk7",
        "outputId": "2d5b1ebc-0987-439c-fc67-966e5e34f54f"
      },
      "execution_count": 61,
      "outputs": [
        {
          "output_type": "stream",
          "name": "stdout",
          "text": [
            "[{'generated_text': 'كم عدد الساعات المعتمدة التي يجب أن يدرسها الطالب لتصنيفه في مستوى السنة الثانية؟\\t 60 ساعة معتمدة.'}]\n"
          ]
        }
      ]
    },
    {
      "cell_type": "markdown",
      "source": [
        "# Second Training\n"
      ],
      "metadata": {
        "id": "J6hRePKcG2mG"
      }
    },
    {
      "cell_type": "code",
      "source": [
        "from datasets import load_dataset\n",
        "import pandas as pd\n",
        "df = pd.read_csv('/content/dataSEt_rows (1).csv')\n",
        "\n",
        "\n",
        "dataset = load_dataset('csv', data_files={'train': '/content/dataSEt_rows (1).csv'})\n",
        "\n",
        "print(dataset['train'][0])\n",
        "df['text'] = df['Question'] + \" \" + df['Answer']\n",
        "\n",
        "df.head()\n",
        "\n"
      ],
      "metadata": {
        "id": "LHq2DxJcG7KJ"
      },
      "execution_count": null,
      "outputs": []
    },
    {
      "cell_type": "code",
      "source": [
        "from transformers import GPT2LMHeadModel, GPT2Tokenizer, Trainer, TrainingArguments\n",
        "from torch.utils.data import Dataset\n",
        "import torch\n",
        "\n",
        "model = GPT2LMHeadModel.from_pretrained(\"/content/drive/MyDrive/arabian_gpt_trained\")\n",
        "tokenizer = PreTrainedTokenizerFast.from_pretrained(\"/content/drive/MyDrive/arabian_gpt_trained\")\n",
        "\n",
        "tokenizer.pad_token = tokenizer.eos_token\n",
        "\n",
        "encodings = tokenizer(list(df['text']), truncation=True, padding=True, max_length=512, return_tensors='pt')\n",
        "\n",
        "if 'token_type_ids' in encodings:\n",
        "    encodings.pop('token_type_ids')\n",
        "\n",
        "class CustomDataset(Dataset):\n",
        "    def __init__(self, encodings):\n",
        "        self.input_ids = encodings['input_ids']\n",
        "        self.attention_mask = encodings['attention_mask']\n",
        "\n",
        "    def __len__(self):\n",
        "        return self.input_ids.size(0)\n",
        "\n",
        "    def __getitem__(self, idx):\n",
        "        item = {\n",
        "            'input_ids': self.input_ids[idx],\n",
        "            'attention_mask': self.attention_mask[idx],\n",
        "            'labels': self.input_ids[idx].clone()\n",
        "        }\n",
        "        return item\n",
        "\n",
        "dataset = CustomDataset(encodings)\n",
        "\n",
        "training_args = TrainingArguments(\n",
        "    output_dir='./results',\n",
        "    eval_strategy=\"no\",\n",
        "    learning_rate=5e-5,\n",
        "    per_device_train_batch_size=4,\n",
        "    num_train_epochs=3,\n",
        "    weight_decay=0.01,\n",
        "    logging_dir='./logs',\n",
        "    logging_steps=10,\n",
        "    save_steps=500,\n",
        "    save_total_limit=2,\n",
        ")\n",
        "\n",
        "trainer = Trainer(\n",
        "    model=model,\n",
        "    args=training_args,\n",
        "    train_dataset=dataset,\n",
        ")\n",
        "\n",
        "trainer.train()\n"
      ],
      "metadata": {
        "id": "teIqJs2pHbBt"
      },
      "execution_count": null,
      "outputs": []
    }
  ]
}